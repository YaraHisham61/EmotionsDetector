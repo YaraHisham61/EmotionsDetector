{
 "cells": [
  {
   "cell_type": "code",
   "execution_count": 1,
   "metadata": {},
   "outputs": [],
   "source": [
    "import adaBoost as ab\n",
    "from commonFunctions import *\n",
    "import integralImage as int_img\n"
   ]
  },
  {
   "cell_type": "code",
   "execution_count": 2,
   "metadata": {},
   "outputs": [],
   "source": [
    "pos_training_path = 'E:/Collage/IP/Project/EmotionDetector/positiveImages'\n",
    "neg_training_path = 'E:/Collage/IP/Project/EmotionDetector/negativeImages'\n",
    "pos_testing_path = 'trainingdata/faces/test'\n",
    "neg_testing_path = 'trainingdata/nonfaces/test'\n",
    "\n",
    "num_classifiers = 20\n",
    "# For performance reasons restricting feature size\n",
    "min_feature_height = 4\n",
    "max_feature_height = 10\n",
    "min_feature_width = 4\n",
    "max_feature_width = 10"
   ]
  },
  {
   "cell_type": "code",
   "execution_count": 3,
   "metadata": {},
   "outputs": [
    {
     "name": "stdout",
     "output_type": "stream",
     "text": [
      "Loading faces for training..\n",
      "..done. 96 faces loaded.\n",
      "\n",
      "Loading non faces..\n",
      "..done. 30 non faces loaded.\n",
      "\n"
     ]
    }
   ],
   "source": [
    "print('Loading faces for training..')\n",
    "faces_training = load_images(pos_training_path)\n",
    "faces_ii_training = list(map(int_img.calc_integral_image, faces_training))\n",
    "print('..done. ' + str(len(faces_training)) + ' faces loaded.\\n\\nLoading non faces..')\n",
    "non_faces_training = load_images(neg_training_path)\n",
    "non_faces_ii_training = list(map(int_img.calc_integral_image, non_faces_training))\n",
    "print('..done. ' + str(len(non_faces_training)) + ' non faces loaded.\\n')\n"
   ]
  },
  {
   "cell_type": "code",
   "execution_count": 4,
   "metadata": {},
   "outputs": [
    {
     "name": "stdout",
     "output_type": "stream",
     "text": [
      "Creating haar-like features..\n",
      "..done. 10335894 features created.\n",
      "\n",
      "Calculating scores for images..\n"
     ]
    },
    {
     "name": "stderr",
     "output_type": "stream",
     "text": [
      "  0% |                                                                        |\r"
     ]
    },
    {
     "ename": "AttributeError",
     "evalue": "'HaarLikeFeature' object has no attribute 'self'",
     "output_type": "error",
     "traceback": [
      "\u001b[1;31m---------------------------------------------------------------------------\u001b[0m",
      "\u001b[1;31mRemoteTraceback\u001b[0m                           Traceback (most recent call last)",
      "\u001b[1;31mRemoteTraceback\u001b[0m: \n\"\"\"\nTraceback (most recent call last):\n  File \"c:\\Users\\Yara\\AppData\\Local\\Programs\\Python\\Python311\\Lib\\multiprocessing\\pool.py\", line 125, in worker\n    result = (True, func(*args, **kwds))\n                    ^^^^^^^^^^^^^^^^^^^\n  File \"c:\\Users\\Yara\\AppData\\Local\\Programs\\Python\\Python311\\Lib\\multiprocessing\\pool.py\", line 48, in mapstar\n    return list(map(*args))\n           ^^^^^^^^^^^^^^^^\n  File \"e:\\Collage\\IP\\Project\\EmotionDetector\\EmotionsDetector\\adaBoost.py\", line 85, in _get_feature_vote\n    return feature.get_vote(image)\n           ^^^^^^^^^^^^^^^^^^^^^^^\n  File \"e:\\Collage\\IP\\Project\\EmotionDetector\\EmotionsDetector\\haarLikeFeatures.py\", line 87, in get_vote\n    score= self.get_score(integral_image)\n           ^^^^^^^^^^^^^^^^^^^^^^^^^^^^^^\n  File \"e:\\Collage\\IP\\Project\\EmotionDetector\\EmotionsDetector\\haarLikeFeatures.py\", line 72, in get_score\n    black = int_img.calc_region_sum(integral_image, self.x0 + self.w/2, self.y0, self.w/2, self.h/2) + int_img.calc_region_sum(integral_image, self.x0, self.self.y0 + self.h/2, self.self.w/2, self.h/2)\n                                                                                                                                                        ^^^^^^^^^\nAttributeError: 'HaarLikeFeature' object has no attribute 'self'\n\"\"\"",
      "\nThe above exception was the direct cause of the following exception:\n",
      "\u001b[1;31mAttributeError\u001b[0m                            Traceback (most recent call last)",
      "Cell \u001b[1;32mIn[4], line 1\u001b[0m\n\u001b[1;32m----> 1\u001b[0m classifiers \u001b[38;5;241m=\u001b[39m \u001b[43mab\u001b[49m\u001b[38;5;241;43m.\u001b[39;49m\u001b[43mtrain\u001b[49m\u001b[43m(\u001b[49m\u001b[43mfaces_ii_training\u001b[49m\u001b[43m,\u001b[49m\u001b[43m \u001b[49m\u001b[43mnon_faces_ii_training\u001b[49m\u001b[43m,\u001b[49m\u001b[43m \u001b[49m\u001b[43mnum_classifiers\u001b[49m\u001b[43m,\u001b[49m\u001b[43m \u001b[49m\u001b[43mmin_feature_height\u001b[49m\u001b[43m,\u001b[49m\u001b[43m \u001b[49m\u001b[43mmax_feature_height\u001b[49m\u001b[43m,\u001b[49m\u001b[43m \u001b[49m\u001b[43mmin_feature_width\u001b[49m\u001b[43m,\u001b[49m\u001b[43m \u001b[49m\u001b[43mmax_feature_width\u001b[49m\u001b[43m)\u001b[49m\n",
      "File \u001b[1;32me:\\Collage\\IP\\Project\\EmotionDetector\\EmotionsDetector\\adaBoost.py:41\u001b[0m, in \u001b[0;36mtrain\u001b[1;34m(posImgs, negImgs, num_classifiers, min_feature_width, max_feature_width, min_feature_height, max_feature_height)\u001b[0m\n\u001b[0;32m     39\u001b[0m pool \u001b[38;5;241m=\u001b[39m Pool(processes\u001b[38;5;241m=\u001b[39m\u001b[38;5;28;01mNone\u001b[39;00m)\n\u001b[0;32m     40\u001b[0m \u001b[38;5;28;01mfor\u001b[39;00m i \u001b[38;5;129;01min\u001b[39;00m bar(\u001b[38;5;28mrange\u001b[39m(totalNum)):\n\u001b[1;32m---> 41\u001b[0m     votes[i, :] \u001b[38;5;241m=\u001b[39m np\u001b[38;5;241m.\u001b[39marray(\u001b[38;5;28mlist\u001b[39m(\u001b[43mpool\u001b[49m\u001b[38;5;241;43m.\u001b[39;49m\u001b[43mmap\u001b[49m\u001b[43m(\u001b[49m\u001b[43mpartial\u001b[49m\u001b[43m(\u001b[49m\u001b[43m_get_feature_vote\u001b[49m\u001b[43m,\u001b[49m\u001b[43m \u001b[49m\u001b[43mimage\u001b[49m\u001b[38;5;241;43m=\u001b[39;49m\u001b[43mimages\u001b[49m\u001b[43m[\u001b[49m\u001b[43mi\u001b[49m\u001b[43m]\u001b[49m\u001b[43m)\u001b[49m\u001b[43m,\u001b[49m\u001b[43m \u001b[49m\u001b[43mfeatures\u001b[49m\u001b[43m)\u001b[49m))\n\u001b[0;32m     43\u001b[0m \u001b[38;5;66;03m# select classifiers\u001b[39;00m\n\u001b[0;32m     45\u001b[0m classifiers \u001b[38;5;241m=\u001b[39m []\n",
      "File \u001b[1;32mc:\\Users\\Yara\\AppData\\Local\\Programs\\Python\\Python311\\Lib\\multiprocessing\\pool.py:367\u001b[0m, in \u001b[0;36mPool.map\u001b[1;34m(self, func, iterable, chunksize)\u001b[0m\n\u001b[0;32m    362\u001b[0m \u001b[38;5;28;01mdef\u001b[39;00m \u001b[38;5;21mmap\u001b[39m(\u001b[38;5;28mself\u001b[39m, func, iterable, chunksize\u001b[38;5;241m=\u001b[39m\u001b[38;5;28;01mNone\u001b[39;00m):\n\u001b[0;32m    363\u001b[0m \u001b[38;5;250m    \u001b[39m\u001b[38;5;124;03m'''\u001b[39;00m\n\u001b[0;32m    364\u001b[0m \u001b[38;5;124;03m    Apply `func` to each element in `iterable`, collecting the results\u001b[39;00m\n\u001b[0;32m    365\u001b[0m \u001b[38;5;124;03m    in a list that is returned.\u001b[39;00m\n\u001b[0;32m    366\u001b[0m \u001b[38;5;124;03m    '''\u001b[39;00m\n\u001b[1;32m--> 367\u001b[0m     \u001b[38;5;28;01mreturn\u001b[39;00m \u001b[38;5;28;43mself\u001b[39;49m\u001b[38;5;241;43m.\u001b[39;49m\u001b[43m_map_async\u001b[49m\u001b[43m(\u001b[49m\u001b[43mfunc\u001b[49m\u001b[43m,\u001b[49m\u001b[43m \u001b[49m\u001b[43miterable\u001b[49m\u001b[43m,\u001b[49m\u001b[43m \u001b[49m\u001b[43mmapstar\u001b[49m\u001b[43m,\u001b[49m\u001b[43m \u001b[49m\u001b[43mchunksize\u001b[49m\u001b[43m)\u001b[49m\u001b[38;5;241;43m.\u001b[39;49m\u001b[43mget\u001b[49m\u001b[43m(\u001b[49m\u001b[43m)\u001b[49m\n",
      "File \u001b[1;32mc:\\Users\\Yara\\AppData\\Local\\Programs\\Python\\Python311\\Lib\\multiprocessing\\pool.py:774\u001b[0m, in \u001b[0;36mApplyResult.get\u001b[1;34m(self, timeout)\u001b[0m\n\u001b[0;32m    772\u001b[0m     \u001b[38;5;28;01mreturn\u001b[39;00m \u001b[38;5;28mself\u001b[39m\u001b[38;5;241m.\u001b[39m_value\n\u001b[0;32m    773\u001b[0m \u001b[38;5;28;01melse\u001b[39;00m:\n\u001b[1;32m--> 774\u001b[0m     \u001b[38;5;28;01mraise\u001b[39;00m \u001b[38;5;28mself\u001b[39m\u001b[38;5;241m.\u001b[39m_value\n",
      "\u001b[1;31mAttributeError\u001b[0m: 'HaarLikeFeature' object has no attribute 'self'"
     ]
    }
   ],
   "source": [
    "classifiers = ab.train(faces_ii_training, non_faces_ii_training, num_classifiers, min_feature_height, max_feature_height, min_feature_width, max_feature_width)"
   ]
  }
 ],
 "metadata": {
  "kernelspec": {
   "display_name": "Python 3",
   "language": "python",
   "name": "python3"
  },
  "language_info": {
   "codemirror_mode": {
    "name": "ipython",
    "version": 3
   },
   "file_extension": ".py",
   "mimetype": "text/x-python",
   "name": "python",
   "nbconvert_exporter": "python",
   "pygments_lexer": "ipython3",
   "version": "3.11.5"
  }
 },
 "nbformat": 4,
 "nbformat_minor": 2
}
